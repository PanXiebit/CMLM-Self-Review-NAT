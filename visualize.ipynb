{
 "cells": [
  {
   "cell_type": "code",
   "execution_count": 1,
   "metadata": {},
   "outputs": [],
   "source": [
    "# !pip install matplotlib"
   ]
  },
  {
   "cell_type": "code",
   "execution_count": 2,
   "metadata": {},
   "outputs": [],
   "source": [
    "# Copyright (c) 2017-present, Facebook, Inc.\n",
    "# All rights reserved.\n",
    "#\n",
    "# This source code is licensed under the license found in the LICENSE file in\n",
    "# the root directory of this source tree. An additional grant of patent rights\n",
    "# can be found in the PATENTS file in the same directory.\n",
    "\"\"\"\n",
    "Translate pre-processed data with a trained model.\n",
    "\"\"\"\n",
    "\n",
    "import torch\n",
    "import numpy as np\n",
    "import math\n",
    "import torch.nn.functional as F\n",
    "import re\n",
    "\n",
    "from fairseq import pybleu, options, progress_bar, tasks, tokenizer, utils, strategies\n",
    "from fairseq.meters import TimeMeter\n",
    "from fairseq.strategies.strategy_utils import duplicate_encoder_out\n",
    "import matplotlib.pyplot as plt\n",
    "import matplotlib.ticker as ticker"
   ]
  },
  {
   "cell_type": "code",
   "execution_count": 3,
   "metadata": {},
   "outputs": [],
   "source": [
    "parser = options.get_generation_parser(interactive=False)\n",
    "args = options.parse_args_and_arch(parser)"
   ]
  },
  {
   "cell_type": "code",
   "execution_count": 4,
   "metadata": {},
   "outputs": [],
   "source": [
    "# args = setattr(args, \"path\", \"output/my_maskPredict_en_ro/checkpoint_average.pt\")\n",
    "# args = setattr(args, \"task\", \"translation_self\")\n",
    "# args = setattr(args, \"remove-bpe\", True)\n",
    "# args = setattr(args, \"input\", \"output/data-bin\")"
   ]
  },
  {
   "cell_type": "code",
   "execution_count": 5,
   "metadata": {},
   "outputs": [],
   "source": [
    "def main(args):\n",
    "    assert args.path is not None, '--path required for generation!'\n",
    "    assert not args.sampling or args.nbest == args.beam, \\\n",
    "        '--sampling requires --nbest to be equal to --beam'\n",
    "    assert args.replace_unk is None or args.raw_text, \\\n",
    "        '--replace-unk requires a raw text dataset (--raw-text)'\n",
    "\n",
    "    if args.max_tokens is None and args.max_sentences is None:\n",
    "        args.max_tokens = 12000\n",
    "    print(args)\n",
    "\n",
    "    use_cuda = torch.cuda.is_available() and not args.cpu\n",
    "    torch.manual_seed(args.seed)\n",
    "\n",
    "    # Load dataset splits\n",
    "    task = tasks.setup_task(args)\n",
    "    task.load_dataset(args.gen_subset)\n",
    "    print('| {} {} {} examples'.format(args.data, args.gen_subset, len(task.dataset(args.gen_subset))))\n",
    "\n",
    "    # Set dictionaries\n",
    "    # src_dict = task.source_dictionary\n",
    "    tgt_dict = task.target_dictionary\n",
    "    dict = tgt_dict\n",
    "\n",
    "    # Load decoding strategy\n",
    "    strategy = strategies.setup_strategy(args)\n",
    "\n",
    "    # Load ensemble\n",
    "    print('| loading model(s) from {}'.format(args.path))\n",
    "    models, _ = utils.load_ensemble_for_inference(args.path.split(':'), task,\n",
    "                                                  model_arg_overrides=eval(args.model_overrides))\n",
    "    models = [model.cuda() for model in models]\n",
    "    # Optimize ensemble for generation\n",
    "    for model in models:\n",
    "        if args.fp16:\n",
    "            model.half()\n",
    "\n",
    "    # Load alignment dictionary for unknown word replacement\n",
    "    # (None if no unknown word replacement, empty if no path to align dictionary)\n",
    "    align_dict = utils.load_align_dict(args.replace_unk)\n",
    "\n",
    "    # Load dataset (possibly sharded)\n",
    "    itr = task.get_batch_iterator(\n",
    "        dataset=task.dataset(args.gen_subset),\n",
    "        max_tokens=args.max_tokens,\n",
    "        max_sentences=args.max_sentences,\n",
    "        max_positions=utils.resolve_max_positions(\n",
    "            task.max_positions(),\n",
    "            *[model.max_positions() for model in models]\n",
    "        ),\n",
    "        ignore_invalid_inputs=args.skip_invalid_size_inputs_valid_test,\n",
    "        required_batch_size_multiple=8,\n",
    "        num_shards=args.num_shards,\n",
    "        shard_id=args.shard_id,\n",
    "    ).next_epoch_itr(shuffle=False)\n",
    "\n",
    "    with progress_bar.build_progress_bar(args, itr) as t:\n",
    "\n",
    "        visualizate(t, models, tgt_dict, use_gold_target_len=args.gold_target_len)\n",
    "\n",
    "\n",
    "def dehyphenate(sent):\n",
    "    return re.sub(r'(\\S)-(\\S)', r'\\1 ##AT##-##AT## \\2', sent).replace('##AT##', '@')\n",
    "\n",
    "\n",
    "def deduplicate(sent, dup_cnt):\n",
    "    sent = sent.strip().split(\" \")\n",
    "    new_sent = [sent[0]]\n",
    "    for i in range(1, len(sent)):\n",
    "        if sent[i] != new_sent[-1]:\n",
    "            new_sent.append(sent[i])\n",
    "        else:\n",
    "            dup_cnt += 1\n",
    "    print(\"duplicated word number {}\".format(dup_cnt))\n",
    "    return \" \".join(new_sent), dup_cnt\n",
    "\n",
    "\n",
    "def visualizate(data_itr, models, tgt_dict, use_gold_target_len=False, cuda=True):\n",
    "    \"\"\"Iterate over a batched dataset and yield individual translations.\n",
    "     Args:\n",
    "        maxlen_a/b: generate sequences of maximum length ax + b,\n",
    "                where x is the source sentence length.\n",
    "            cuda: use GPU for generation\n",
    "    \"\"\"\n",
    "    count = 0\n",
    "    for i, sample in enumerate(data_itr):\n",
    "        s = utils.move_to_cuda(sample) if cuda else sample\n",
    "        if 'net_input' not in s:\n",
    "            continue\n",
    "        input = s['net_input']\n",
    "\n",
    "        # model.forward normally channels prev_output_tokens into the decoder\n",
    "        # separately, but SequenceGenerator directly calls model.encoder\n",
    "        encoder_input = {\n",
    "            k: v for k, v in input.items()\n",
    "            # if k != 'prev_output_tokens' and k != 'real_target'\n",
    "        }\n",
    "\n",
    "        with torch.no_grad():\n",
    "            gold_target_len = s['target'].ne(tgt_dict.pad()).sum(-1) if use_gold_target_len else None\n",
    "            hypos, gen_inner_state, gen_attention, dis_inner_state, dis_attention = generate(\n",
    "                encoder_input, models)\n",
    "            print(hypos.shape)\n",
    "            print(len(gen_inner_state))\n",
    "            print(gen_attention.shape)\n",
    "            for i, batch in enumerate(range(hypos.size(0))):\n",
    "                src = utils.strip_pad(input['src_tokens'][batch].data, tgt_dict.pad())\n",
    "                ref = utils.strip_pad(s['target'][batch].data, tgt_dict.pad()) if s['target'] is not None else None\n",
    "                hypo = utils.strip_pad(hypos[batch], tgt_dict.pad())\n",
    "                src_str = tgt_dict.string(src, args.remove_bpe)\n",
    "                hypo_str = tgt_dict.string(hypo, args.remove_bpe)\n",
    "                \n",
    "                src_len = len(src_str.split())\n",
    "                hypo_len = len(hypo_str.split())\n",
    "                if src_len > 12 and src_len < 15 and src_len - hypo_len < 2 and src_len - hypo_len > -2:\n",
    "                    print(\"src_str: \\t\", src_str)\n",
    "                    print(\"hypo_str: \\t\", hypo_str)\n",
    "                    print(src_len, hypo_len)\n",
    "                    display_attention(src_str, hypo_str, gen_attention[i])\n",
    "                    display_attention(src_str, hypo_str, dis_attention[i])\n",
    "                    break\n",
    "        break\n",
    "\n",
    "\n",
    "def generate(encoder_input, models):\n",
    "    assert len(models) == 1\n",
    "    model = models[0]\n",
    "    model.eval()\n",
    "    output = model(**encoder_input)\n",
    "    # gen_dec_logits, dis_dec_logits, encoder_out['predicted_lengths'], fake_data, gen_decoder_out[1], dis_decoder_out[1]\n",
    "\n",
    "    gen_inner_state, gen_attention = output[4][\"inner_states\"], output[4][\"attn\"]  # list\n",
    "    dis_inner_state, dis_attention = output[5][\"inner_states\"], output[5][\"attn\"]  # list\n",
    "\n",
    "    gen_out = output[0]\n",
    "    probs = F.softmax(gen_out, dim=-1)\n",
    "    max_probs, hypotheses = probs.max(dim=-1)\n",
    "    return hypotheses, gen_inner_state, gen_attention, dis_inner_state, dis_attention\n",
    "\n",
    "\n",
    "def display_attention(sentence, translation, attention, n_heads=8, n_rows=4, n_cols=2):\n",
    "    assert n_rows * n_cols == n_heads\n",
    "\n",
    "    fig = plt.figure(figsize=(15, 25))\n",
    "\n",
    "    #for i in range(n_heads):\n",
    "    ax = fig.add_subplot(n_rows, n_cols, 1)\n",
    "\n",
    "    #_attention = attention.squeeze(0)[i].cpu().detach().numpy()\n",
    "    _attention = attention.squeeze(0).cpu().detach().numpy()\n",
    "    cax = ax.matshow(_attention, cmap='bone')\n",
    "\n",
    "    ax.tick_params(labelsize=12)\n",
    "    ax.set_xticklabels(sentence.split(), rotation=45)\n",
    "    ax.set_yticklabels(translation.split())\n",
    "\n",
    "    ax.xaxis.set_major_locator(ticker.MultipleLocator(1))\n",
    "    ax.yaxis.set_major_locator(ticker.MultipleLocator(1))\n",
    "\n",
    "    plt.show()\n",
    "    plt.close()"
   ]
  },
  {
   "cell_type": "code",
   "execution_count": 6,
   "metadata": {},
   "outputs": [
    {
     "name": "stdout",
     "output_type": "stream",
     "text": [
      "Namespace(add_bos='True', beam=5, cpu=False, criterion='cross_entropy', data='output/data-bin', dataset_impl=None, decoding_iterations=None, decoding_strategy='left_to_right', dehyphenate=False, diverse_beam_groups=-1, diverse_beam_strength=0.5, dynamic_length=False, fff='/root/.local/share/jupyter/runtime/kernel-ade1d2a0-f6fd-4bc4-bcd9-db889f6ba87f.json', force_anneal=None, fp16=False, fp16_init_scale=128, fp16_scale_tolerance=0.0, fp16_scale_window=None, gen_subset='test', gold_target_len=False, left_pad_source='True', left_pad_target='False', length_beam=5, lenpen=1, log_format=None, log_interval=1000, lr_scheduler='fixed', lr_shrink=0.1, mask_range=False, match_source_len=False, max_len_a=0, max_len_b=200, max_sentences=None, max_source_positions=1024, max_target_positions=1024, max_tokens=12000, memory_efficient_fp16=False, min_len=1, min_loss_scale=0.0001, model_overrides='{}', momentum=0.99, nbest=1, no_beamable_mm=False, no_early_stop=False, no_progress_bar=False, no_repeat_ngram_size=0, num_shards=1, num_workers=0, optimizer='nag', path='output/my_maskPredict_en_ro/checkpoint_average.pt', prefix_size=0, print_alignment=False, quiet=False, raw_text=False, remove_bpe='@@ ', replace_unk=None, required_batch_size_multiple=8, results_path=None, sacrebleu=False, sampling=False, sampling_topk=-1, sampling_topp=-1.0, score_reference=False, seed=1, self_target=False, shard_id=0, skip_invalid_size_inputs_valid_test=False, source_lang=None, target_lang=None, task='translation_self', tbmf_wrapper=False, temperature=1.0, tensorboard_logdir='', threshold_loss_scale=None, unkpen=0, unnormalized=False, upsample_primary=1, use_at=False, use_at_iter=10, user_dir=None, visual_subset='visual', warmup_updates=0, weight_decay=0.0)\n",
      "| [en] dictionary: 34984 types\n",
      "| [ro] dictionary: 34984 types\n",
      "| output/data-bin test 1999 examples\n",
      "| output/data-bin test 1999 examples\n",
      "| loading model(s) from output/my_maskPredict_en_ro/checkpoint_average.pt\n"
     ]
    },
    {
     "name": "stderr",
     "output_type": "stream",
     "text": [
      "/opt/conda/lib/python3.7/site-packages/ipykernel_launcher.py:31: UserWarning: utils.load_ensemble_for_inference is deprecated. Please use checkpoint_utils.load_model_ensemble instead.\n"
     ]
    },
    {
     "name": "stdout",
     "output_type": "stream",
     "text": [
      "Model setting Right here!\n",
      "torch.Size([496, 24])\n",
      "7\n",
      "torch.Size([496, 24, 17])\n",
      "src_str: \t <s> maybe people out there think i am .\n",
      "hypo_str: \t poate ca oamenii cred cred .\n",
      "9 6\n"
     ]
    },
    {
     "data": {
      "image/png": "[encoded data removed]",
      "text/plain": [
       "<Figure size 1080x1800 with 1 Axes>"
      ]
     },
     "metadata": {
      "needs_background": "light"
     },
     "output_type": "display_data"
    },
    {
     "data": {
      "image/png": "[encoded data removed]",
      "text/plain": [
       "<Figure size 1080x1800 with 1 Axes>"
      ]
     },
     "metadata": {
      "needs_background": "light"
     },
     "output_type": "display_data"
    }
   ],
   "source": [
    "main(args)"
   ]
  },
  {
   "cell_type": "code",
   "execution_count": null,
   "metadata": {},
   "outputs": [],
   "source": []
  }
 ],
 "metadata": {
  "kernelspec": {
   "display_name": "Python 3",
   "language": "python",
   "name": "python3"
  },
  "language_info": {
   "codemirror_mode": {
    "name": "ipython",
    "version": 3
   },
   "file_extension": ".py",
   "mimetype": "text/x-python",
   "name": "python",
   "nbconvert_exporter": "python",
   "pygments_lexer": "ipython3",
   "version": "3.7.7"
  }
 },
 "nbformat": 4,
 "nbformat_minor": 4
}
